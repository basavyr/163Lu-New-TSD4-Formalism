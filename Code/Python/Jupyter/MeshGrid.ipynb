{
 "metadata": {
  "language_info": {
   "codemirror_mode": {
    "name": "ipython",
    "version": 3
   },
   "file_extension": ".py",
   "mimetype": "text/x-python",
   "name": "python",
   "nbconvert_exporter": "python",
   "pygments_lexer": "ipython3",
   "version": "3.8.5-final"
  },
  "orig_nbformat": 2,
  "kernelspec": {
   "name": "python_defaultSpec_1600502913635",
   "display_name": "Python 3.8.5 64-bit"
  }
 },
 "nbformat": 4,
 "nbformat_minor": 2,
 "cells": [
  {
   "cell_type": "code",
   "execution_count": 88,
   "metadata": {},
   "outputs": [],
   "source": [
    "import numpy as np\n",
    "import matplotlib.pyplot as plt"
   ]
  },
  {
   "cell_type": "code",
   "execution_count": 145,
   "metadata": {},
   "outputs": [],
   "source": [
    "def ellipse(x,y,a,b,c):\n",
    "    return np.sqrt(a*(x**2)+b*(y**2)*c)"
   ]
  },
  {
   "cell_type": "code",
   "execution_count": 146,
   "metadata": {},
   "outputs": [],
   "source": [
    "def gellipse(x,y,a,b,c):\n",
    "    return a*(x**3)+b*(y**2)+c"
   ]
  },
  {
   "cell_type": "code",
   "execution_count": 159,
   "metadata": {},
   "outputs": [],
   "source": [
    "def ContourPlot(filename,fct,a,b,c):\n",
    "    pdf_ext='.pdf'\n",
    "    jpg_ext='.jpeg'\n",
    "\n",
    "    # Export as PDF\n",
    "    filename=filename+pdf_ext\n",
    "    \n",
    "    # Export as JPEG\n",
    "    # filename=filename+jpeg_ext\n",
    "    \n",
    "    dimX=150\n",
    "    dimY=75\n",
    "    stepX=1\n",
    "    stepY=1.5\n",
    "    x,y=[list(np.arange(-dimX,dimX,stepX)),list(np.arange(-dimY,dimY,stepY))]\n",
    "    xx,yy=np.meshgrid(x,y)\n",
    "    # print(xx)\n",
    "    # print(yy)\n",
    "    z=ellipse(xx,yy,a,b,c)\n",
    "    # print(z.shape)\n",
    "    # print(z)\n",
    "\n",
    "    # fig, ax = plt.subplots(figsize=(10,10))\n",
    "    # ax.set_aspect('equal')\n",
    "    # cf=ax.contourf(x,y,z,label=f'The contour-plot of {fct}')\n",
    "    # cf = ax.contourf(X,Y,Z)\n",
    "    # fig.colorbar(cf, ax=ax)\n",
    "\n",
    "\n",
    "    plt.contourf(x,y,z,label=f'The contour-plot of {fct}')\n",
    "    plt.colorbar()\n",
    "    plt.xlabel(f'x')\n",
    "    plt.ylabel(f'y')\n",
    "    # plt.legend(loc='best')\n",
    "    plt.savefig(filename,bbox_inches='tight')\n",
    "    print(f'The plot {filename} has been succesfully represented...')\n",
    "    plt.close()"
   ]
  },
  {
   "source": [
    "### The constants"
   ],
   "cell_type": "markdown",
   "metadata": {}
  },
  {
   "cell_type": "code",
   "execution_count": 160,
   "metadata": {},
   "outputs": [],
   "source": [
    "filename='my_gridplot'\n",
    "a=1.5\n",
    "b=8.2\n",
    "c=11.5"
   ]
  },
  {
   "source": [
    "___"
   ],
   "cell_type": "markdown",
   "metadata": {}
  },
  {
   "cell_type": "code",
   "execution_count": 161,
   "metadata": {
    "tags": []
   },
   "outputs": [
    {
     "output_type": "stream",
     "name": "stdout",
     "text": "my_gridplot-0.pdf\nmy_gridplot-1.pdf\n"
    }
   ],
   "source": [
    "ContourPlot(filename+'-0',ellipse,a,b,c)\n",
    "ContourPlot(filename+'-1',ellipse,a,b,c)"
   ]
  },
  {
   "cell_type": "code",
   "execution_count": null,
   "metadata": {},
   "outputs": [],
   "source": []
  }
 ]
}