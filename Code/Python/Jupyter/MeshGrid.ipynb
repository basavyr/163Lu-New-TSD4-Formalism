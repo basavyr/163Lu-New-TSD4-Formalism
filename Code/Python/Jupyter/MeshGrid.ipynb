{
 "cells": [
  {
   "cell_type": "code",
   "execution_count": 1,
   "metadata": {
    "ExecuteTime": {
     "end_time": "2020-09-19T09:01:48.154505Z",
     "start_time": "2020-09-19T09:01:47.622863Z"
    }
   },
   "outputs": [],
   "source": [
    "import numpy as np\n",
    "import matplotlib.pyplot as plt"
   ]
  },
  {
   "cell_type": "code",
   "execution_count": 2,
   "metadata": {
    "ExecuteTime": {
     "end_time": "2020-09-19T09:01:48.159352Z",
     "start_time": "2020-09-19T09:01:48.156463Z"
    }
   },
   "outputs": [],
   "source": [
    "def ellipse(x,y,a,b,c):\n",
    "    return np.sqrt(a*(x**2)+b*(y**2)*c)"
   ]
  },
  {
   "cell_type": "code",
   "execution_count": 3,
   "metadata": {
    "ExecuteTime": {
     "end_time": "2020-09-19T09:01:48.892641Z",
     "start_time": "2020-09-19T09:01:48.884124Z"
    }
   },
   "outputs": [],
   "source": [
    "def gellipse(x,y,a,b,c):\n",
    "    return a*(x**3)+b*(y**2)+c"
   ]
  },
  {
   "cell_type": "code",
   "execution_count": 4,
   "metadata": {
    "ExecuteTime": {
     "end_time": "2020-09-19T09:01:49.670445Z",
     "start_time": "2020-09-19T09:01:49.651645Z"
    }
   },
   "outputs": [],
   "source": [
    "def ContourPlot(filename,fct,a,b,c):\n",
    "    pdf_ext='.pdf'\n",
    "    jpg_ext='.jpeg'\n",
    "\n",
    "    # Export as PDF\n",
    "    filename=filename+pdf_ext\n",
    "    \n",
    "    # Export as JPEG\n",
    "    # filename=filename+jpeg_ext\n",
    "    \n",
    "    dimX=150\n",
    "    dimY=75\n",
    "    stepX=1\n",
    "    stepY=1.5\n",
    "    x,y=[list(np.arange(-dimX,dimX,stepX)),list(np.arange(-dimY,dimY,stepY))]\n",
    "    xx,yy=np.meshgrid(x,y)\n",
    "    # print(xx)\n",
    "    # print(yy)\n",
    "    z=ellipse(xx,yy,a,b,c)\n",
    "    # print(z.shape)\n",
    "    # print(z)\n",
    "\n",
    "    # fig, ax = plt.subplots(figsize=(10,10))\n",
    "    # ax.set_aspect('equal')\n",
    "    # cf=ax.contourf(x,y,z,label=f'The contour-plot of {fct}')\n",
    "    # cf = ax.contourf(X,Y,Z)\n",
    "    # fig.colorbar(cf, ax=ax)\n",
    "\n",
    "\n",
    "    plt.contourf(x,y,z,label=f'The contour-plot of {fct}')\n",
    "    plt.colorbar()\n",
    "    plt.xlabel(f'x')\n",
    "    plt.ylabel(f'y')\n",
    "    # plt.legend(loc='best')\n",
    "    plt.savefig(filename,bbox_inches='tight')\n",
    "    print(f'The plot {filename} has been succesfully represented...')\n",
    "    plt.close()"
   ]
  },
  {
   "cell_type": "markdown",
   "metadata": {},
   "source": [
    "### The constants"
   ]
  },
  {
   "cell_type": "code",
   "execution_count": 5,
   "metadata": {
    "ExecuteTime": {
     "end_time": "2020-09-19T09:01:50.913602Z",
     "start_time": "2020-09-19T09:01:50.907314Z"
    }
   },
   "outputs": [],
   "source": [
    "filename='my_gridplot'\n",
    "a=1.5\n",
    "b=8.2\n",
    "c=11.5"
   ]
  },
  {
   "cell_type": "markdown",
   "metadata": {},
   "source": [
    "___"
   ]
  },
  {
   "cell_type": "code",
   "execution_count": 1,
   "metadata": {
    "ExecuteTime": {
     "end_time": "2020-09-19T09:04:38.198676Z",
     "start_time": "2020-09-19T09:04:37.855564Z"
    },
    "tags": []
   },
   "outputs": [
    {
     "ename": "NameError",
     "evalue": "name 'ContourPlot' is not defined",
     "output_type": "error",
     "traceback": [
      "\u001b[0;31m---------------------------------------------------------------------------\u001b[0m",
      "\u001b[0;31mNameError\u001b[0m                                 Traceback (most recent call last)",
      "\u001b[0;32m<ipython-input-1-2a4b457c1d79>\u001b[0m in \u001b[0;36m<module>\u001b[0;34m\u001b[0m\n\u001b[0;32m----> 1\u001b[0;31m \u001b[0mContourPlot\u001b[0m\u001b[0;34m(\u001b[0m\u001b[0mfilename\u001b[0m\u001b[0;34m+\u001b[0m\u001b[0;34m'-0'\u001b[0m\u001b[0;34m,\u001b[0m\u001b[0mellipse\u001b[0m\u001b[0;34m,\u001b[0m\u001b[0ma\u001b[0m\u001b[0;34m,\u001b[0m\u001b[0mb\u001b[0m\u001b[0;34m,\u001b[0m\u001b[0mc\u001b[0m\u001b[0;34m)\u001b[0m\u001b[0;34m\u001b[0m\u001b[0;34m\u001b[0m\u001b[0m\n\u001b[0m\u001b[1;32m      2\u001b[0m \u001b[0mContourPlot\u001b[0m\u001b[0;34m(\u001b[0m\u001b[0mfilename\u001b[0m\u001b[0;34m+\u001b[0m\u001b[0;34m'-1'\u001b[0m\u001b[0;34m,\u001b[0m\u001b[0mellipse\u001b[0m\u001b[0;34m,\u001b[0m\u001b[0ma\u001b[0m\u001b[0;34m,\u001b[0m\u001b[0mb\u001b[0m\u001b[0;34m,\u001b[0m\u001b[0mc\u001b[0m\u001b[0;34m)\u001b[0m\u001b[0;34m\u001b[0m\u001b[0;34m\u001b[0m\u001b[0m\n",
      "\u001b[0;31mNameError\u001b[0m: name 'ContourPlot' is not defined"
     ]
    }
   ],
   "source": [
    "ContourPlot(filename+'-0',ellipse,a,b,c)\n",
    "ContourPlot(filename+'-1',ellipse,a,b,c)"
   ]
  },
  {
   "cell_type": "markdown",
   "metadata": {},
   "source": [
    "> The following project must solve the issue with the missing label on the plot. "
   ]
  },
  {
   "cell_type": "code",
   "execution_count": null,
   "metadata": {},
   "outputs": [],
   "source": []
  }
 ],
 "metadata": {
  "kernelspec": {
   "display_name": "Python 3",
   "language": "python",
   "name": "python3"
  },
  "language_info": {
   "codemirror_mode": {
    "name": "ipython",
    "version": 3
   },
   "file_extension": ".py",
   "mimetype": "text/x-python",
   "name": "python",
   "nbconvert_exporter": "python",
   "pygments_lexer": "ipython3",
   "version": "3.7.1"
  },
  "latex_envs": {
   "LaTeX_envs_menu_present": true,
   "autoclose": false,
   "autocomplete": true,
   "bibliofile": "biblio.bib",
   "cite_by": "apalike",
   "current_citInitial": 1,
   "eqLabelWithNumbers": true,
   "eqNumInitial": 1,
   "hotkeys": {
    "equation": "Ctrl-E",
    "itemize": "Ctrl-I"
   },
   "labels_anchors": false,
   "latex_user_defs": false,
   "report_style_numbering": false,
   "user_envs_cfg": false
  }
 },
 "nbformat": 4,
 "nbformat_minor": 2
}
